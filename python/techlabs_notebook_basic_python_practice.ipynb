{
 "cells": [
  {
   "cell_type": "markdown",
   "metadata": {},
   "source": [
    "# TechLabs Notebook | Basic Python Practice\n",
    "![#f03c15](https://via.placeholder.com/800x10/f03c15/0000000000?text=+) \n",
    "\n",
    "## Welcome Techi !\n",
    "\n",
    "In this notebook you are going to practice your newly acquired Python skills. Go through the notebook and complete the task which are labeled as **TODO**. Keep in mind, as mentioned in the video materials, use nice variable names ;)\n",
    "\n",
    "It is possible that you encounter concepts here which weren't mentioned in the video materials. This in on purpose so that you get into the habit of googling and using stackoverflow to find your answers. But most of the ideas should be familiar to use.\n",
    "\n",
    "Have fun :)\n",
    "\n",
    "### Learning Path\n",
    "\n",
    "In this notebook you will practice the following Python skills:\n",
    "- assigning values to variables\n",
    "- simple calculations\n",
    "- changing types\n",
    "- printing \n",
    "- building functions"
   ]
  },
  {
   "cell_type": "markdown",
   "metadata": {},
   "source": [
    "## Let's start\n",
    "![#f03c15](https://via.placeholder.com/800x10/f03c15/0000000000?text=+)"
   ]
  },
  {
   "cell_type": "markdown",
   "metadata": {},
   "source": [
    "### Now, as a first step let's try to communicate with the computer\n",
    "\n",
    "In this section you will practice the following:\n",
    "- assigning values to variables\n",
    "- string addition\n",
    "- simple calculation\n",
    "- printing results\n",
    "- building a function"
   ]
  },
  {
   "cell_type": "markdown",
   "metadata": {},
   "source": [
    "**TODO**: Finish the program below so that it asks for your name and then says hello using your name (let the program for exmaple print out: `Hello Kemal.`)."
   ]
  },
  {
   "cell_type": "code",
   "execution_count": null,
   "metadata": {},
   "outputs": [],
   "source": [
    "name = input(\"What is your name?\")\n",
    "\n",
    "# your code goes here\n",
    "...\n",
    "print(greeting)"
   ]
  },
  {
   "cell_type": "markdown",
   "metadata": {},
   "source": [
    "**TODO**: Finish the program below so that it asks for your age and tells you the age difference between your age and his own age."
   ]
  },
  {
   "cell_type": "code",
   "execution_count": null,
   "metadata": {},
   "outputs": [],
   "source": [
    "age = input(\"How old are you?\")\n",
    "program_age = 3\n",
    "\n",
    "# your code goes here\n",
    "...\n",
    "print(text)"
   ]
  },
  {
   "cell_type": "markdown",
   "metadata": {},
   "source": [
    "**TODO**: Now that you programmed both - asking for your name and for your age - put both into one function which you can run to start a conversation with the computer.\n",
    "\n",
    "The output conversation should look samething like this (of course with your own name and age):\n",
    "```\n",
    "What is your name?Kemal\n",
    "Hello Kemal.\n",
    "How old are you?28\n",
    "I'm 3 years old. This means you are 25 years older than me.\n",
    "```"
   ]
  },
  {
   "cell_type": "code",
   "execution_count": null,
   "metadata": {},
   "outputs": [],
   "source": [
    "def start_conversation():\n",
    "    # your code goes here\n",
    "    \n",
    "    # ask for name\n",
    "    ...\n",
    "    print(greeting)\n",
    "    \n",
    "    # ask for age\n",
    "    ...\n",
    "    print(text)\n",
    "    \n",
    "start_conversation()"
   ]
  },
  {
   "cell_type": "markdown",
   "metadata": {},
   "source": [
    "Great work. You successfully build your first very simple program with which you can communicate :)\n",
    "\n",
    "![#f03c15](https://via.placeholder.com/800x10/f03c15/0000000000?text=+)"
   ]
  },
  {
   "cell_type": "markdown",
   "metadata": {},
   "source": [
    "### Now, let's practice some concepts which you will face as a Data Scientist and which you will use later in this course."
   ]
  },
  {
   "cell_type": "markdown",
   "metadata": {},
   "source": [
    "As a Data Scientist you will often work with dataframes and dataframes have often columns. For example if you are working with a supermarket they might have data with the following columns:\n",
    "- amount_ordered\n",
    "- value_ordered\n",
    "- amount_sold\n",
    "- value_sold\n",
    "- amount_left\n",
    "- value_left\n",
    "\n",
    "where order holds the information of ordered articles, sold of sold articles and left of articles which weren't sold. The amount is the number of articles and value the euro value with respect to the price and amount of articles.\n",
    "\n",
    "**TODO**: Given the column names in the list below, print out only the columns with `amount` (make use of a for loop and if statement)"
   ]
  },
  {
   "cell_type": "code",
   "execution_count": null,
   "metadata": {},
   "outputs": [],
   "source": [
    "columns = ['amount_sold', 'value_sold', 'amount_ordered', \n",
    "           'amount_left', 'value_ordered', 'value_sold']\n",
    "\n",
    "print('Here are the amount columns:')\n",
    "\n",
    "# your code goes here\n"
   ]
  },
  {
   "cell_type": "markdown",
   "metadata": {},
   "source": [
    "**TODO**: Now build what you programmed above into a function with the list of columns as well as the filter word as input. So that you can call `filter_columns(columns, 'amount')` to get all columns with amount in it and `filter_columns(columns, 'value')` to get all columns with value in it."
   ]
  },
  {
   "cell_type": "code",
   "execution_count": null,
   "metadata": {},
   "outputs": [],
   "source": [
    "# your code goes here\n",
    "def filter_columns(column, filter_word):\n",
    "    ..."
   ]
  },
  {
   "cell_type": "markdown",
   "metadata": {},
   "source": [
    "Run the following cells to check if your code works. For the first cell you should get\n",
    "```\n",
    "Here are the amount columns:\n",
    "amount_sold\n",
    "amount_ordered\n",
    "amount_left\n",
    "```\n",
    "and for the second cell\n",
    "```\n",
    "Here are the value columns:\n",
    "value_sold\n",
    "value_ordered\n",
    "value_sold\n",
    "```"
   ]
  },
  {
   "cell_type": "code",
   "execution_count": null,
   "metadata": {},
   "outputs": [],
   "source": [
    "columns = ['amount_sold', 'value_sold', 'amount_ordered', \n",
    "           'amount_left', 'value_ordered', 'value_sold']\n",
    "\n",
    "filter_columns(columns, 'amount')"
   ]
  },
  {
   "cell_type": "code",
   "execution_count": null,
   "metadata": {},
   "outputs": [],
   "source": [
    "columns = ['amount_sold', 'value_sold', 'amount_ordered', \n",
    "           'amount_left', 'value_ordered', 'value_sold']\n",
    "\n",
    "filter_columns(columns, 'value')"
   ]
  },
  {
   "cell_type": "markdown",
   "metadata": {},
   "source": [
    "In addition to these, the supermarket might also have information on the last sale. But they store the time in minutes and you actually want the real time.\n",
    "\n",
    "**TODO**: Transform the list of minutes into hours and minutes and print out the time of the last sale."
   ]
  },
  {
   "cell_type": "code",
   "execution_count": null,
   "metadata": {},
   "outputs": [],
   "source": [
    "last_sales = [320, 478, 1390, 995]\n",
    "\n",
    "# your code goes here\n"
   ]
  },
  {
   "cell_type": "markdown",
   "metadata": {},
   "source": [
    "**TODO**: And again, put the code above of the last time calculation into a function which you can call with the list of last sales as input, like `calculate_last_sale_time(last_sale_minutes)`"
   ]
  },
  {
   "cell_type": "code",
   "execution_count": null,
   "metadata": {},
   "outputs": [],
   "source": [
    "def calculate_last_sale_time(..."
   ]
  },
  {
   "cell_type": "markdown",
   "metadata": {},
   "source": [
    "Run the following cell to check if your code works. You should get the follwing result:\n",
    "```\n",
    "Last sale was at: 5:20\n",
    "Last sale was at: 7:58\n",
    "Last sale was at: 23:10\n",
    "Last sale was at: 16:35\n",
    "```"
   ]
  },
  {
   "cell_type": "code",
   "execution_count": null,
   "metadata": {},
   "outputs": [],
   "source": [
    "calculate_last_sale_time([320, 478, 1390, 995])"
   ]
  },
  {
   "cell_type": "markdown",
   "metadata": {},
   "source": [
    "![#f03c15](https://via.placeholder.com/800x10/f03c15/0000000000?text=+) \n",
    "## Congratulations\n",
    "\n",
    "You reached the end of the basic Python notebook practice. Have fun with the rest of the curriculum."
   ]
  }
 ],
 "metadata": {
  "kernelspec": {
   "display_name": "Python 3",
   "language": "python",
   "name": "python3"
  },
  "language_info": {
   "codemirror_mode": {
    "name": "ipython",
    "version": 3
   },
   "file_extension": ".py",
   "mimetype": "text/x-python",
   "name": "python",
   "nbconvert_exporter": "python",
   "pygments_lexer": "ipython3",
   "version": "3.6.3"
  }
 },
 "nbformat": 4,
 "nbformat_minor": 2
}
